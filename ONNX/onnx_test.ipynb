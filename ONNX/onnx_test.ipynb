{
 "cells": [
  {
   "cell_type": "code",
   "execution_count": 4,
   "metadata": {},
   "outputs": [],
   "source": [
    "import torch\n",
    "import torch.nn as nn\n",
    "import torch.nn.functional as F\n",
    "import torch.optim as optim\n",
    "import onnx\n"
   ]
  },
  {
   "cell_type": "code",
   "execution_count": 5,
   "metadata": {},
   "outputs": [],
   "source": [
    "# Simple NN model\n",
    "# 2 layer. 4 inputs 5 hidden 3 output\n",
    "# 1st activation sigmoid, 2nd activation softmax\n",
    "\n",
    "class Net(nn.Module):\n",
    "    def __init__(self):\n",
    "        super(Net, self).__init__()\n",
    "        self.fc1 = nn.Linear(4, 5)\n",
    "        self.fc2 = nn.Linear(5, 3)\n",
    "\n",
    "    def forward(self, x):\n",
    "        x = F.sigmoid(self.fc1(x))\n",
    "        x = F.softmax(self.fc2(x), dim=1)\n",
    "        return x"
   ]
  },
  {
   "cell_type": "code",
   "execution_count": 6,
   "metadata": {},
   "outputs": [
    {
     "name": "stdout",
     "output_type": "stream",
     "text": [
      "Exported graph: graph(%onnx::Gemm_0 : Float(1, 4, strides=[4, 1], requires_grad=0, device=cpu),\n",
      "      %fc1.weight : Float(5, 4, strides=[4, 1], requires_grad=1, device=cpu),\n",
      "      %fc1.bias : Float(5, strides=[1], requires_grad=1, device=cpu),\n",
      "      %fc2.weight : Float(3, 5, strides=[5, 1], requires_grad=1, device=cpu),\n",
      "      %fc2.bias : Float(3, strides=[1], requires_grad=1, device=cpu)):\n",
      "  %/fc1/Gemm_output_0 : Float(1, 5, strides=[5, 1], requires_grad=1, device=cpu) = onnx::Gemm[alpha=1., beta=1., transB=1, onnx_name=\"/fc1/Gemm\"](%onnx::Gemm_0, %fc1.weight, %fc1.bias), scope: __main__.Net::/torch.nn.modules.linear.Linear::fc1 # /Volumes/code/venv/pytorch/lib/python3.11/site-packages/torch/nn/modules/linear.py:117:0\n",
      "  %/Sigmoid_output_0 : Float(1, 5, strides=[5, 1], requires_grad=1, device=cpu) = onnx::Sigmoid[onnx_name=\"/Sigmoid\"](%/fc1/Gemm_output_0), scope: __main__.Net:: # /Volumes/code/venv/pytorch/lib/python3.11/site-packages/torch/nn/functional.py:2013:0\n",
      "  %/fc2/Gemm_output_0 : Float(1, 3, strides=[3, 1], requires_grad=1, device=cpu) = onnx::Gemm[alpha=1., beta=1., transB=1, onnx_name=\"/fc2/Gemm\"](%/Sigmoid_output_0, %fc2.weight, %fc2.bias), scope: __main__.Net::/torch.nn.modules.linear.Linear::fc2 # /Volumes/code/venv/pytorch/lib/python3.11/site-packages/torch/nn/modules/linear.py:117:0\n",
      "  %8 : Float(1, 3, strides=[3, 1], requires_grad=1, device=cpu) = onnx::Softmax[axis=1, onnx_name=\"/Softmax\"](%/fc2/Gemm_output_0), scope: __main__.Net:: # /Volumes/code/venv/pytorch/lib/python3.11/site-packages/torch/nn/functional.py:1888:0\n",
      "  return (%8)\n",
      "\n"
     ]
    }
   ],
   "source": [
    "# Create a model\n",
    "model = Net()\n",
    "model.eval()\n",
    "\n",
    "# Create some data\n",
    "data = torch.randn(1, 4)\n",
    "\n",
    "# Export the model\n",
    "torch.onnx.export(model, data, \"model.onnx\", verbose=True)\n",
    "\n"
   ]
  },
  {
   "cell_type": "code",
   "execution_count": null,
   "metadata": {},
   "outputs": [],
   "source": []
  }
 ],
 "metadata": {
  "kernelspec": {
   "display_name": "pytorch",
   "language": "python",
   "name": "python3"
  },
  "language_info": {
   "codemirror_mode": {
    "name": "ipython",
    "version": 3
   },
   "file_extension": ".py",
   "mimetype": "text/x-python",
   "name": "python",
   "nbconvert_exporter": "python",
   "pygments_lexer": "ipython3",
   "version": "3.11.10"
  }
 },
 "nbformat": 4,
 "nbformat_minor": 2
}
