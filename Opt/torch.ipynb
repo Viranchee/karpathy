{
 "cells": [
  {
   "cell_type": "markdown",
   "metadata": {},
   "source": [
    "# Optimizations to MLP model\n",
    "\n",
    "\n",
    "1. Magic numbers extracted\n",
    "1. `@torch.no_grad()` decorator tells torch to not maintain backward graph\n",
    "\n",
    "#### Init Loss\n",
    "\n",
    "Fix Softmax being confidently wrong\n",
    "\n",
    "Initialization: We want Uniform distribution for all the 27 characters (1/27)\n",
    "Not confident incorrect answers\n",
    "Init Loss = - (1.27).log() (Negative log likelihood)\n",
    "\n",
    "Need Logits roughly 1\n",
    "Hidden layer: W's random distribution\n",
    "\n",
    "``` python\n",
    "b2 = b2 * 0\n",
    "W2 = W2 * 0.1 or 0.01\n",
    "```\n",
    "Can't do 0 in hidden layer, some low numbers / entropy. Helps to break symmetry\n",
    "\n",
    "Removes Hockey stick appearance\n",
    "\n",
    "We are spending less time squashing down the weights\n"
   ]
  },
  {
   "cell_type": "markdown",
   "metadata": {},
   "source": [
    "#### Init TanH\n",
    "\n",
    "Fix tanh layer too saturated at init\n",
    "\n",
    "tanh is a squashing function which maps values from \n",
    "\n",
    "(-inf:inf) to (-1:1)\n",
    "\n",
    "Gradient decreases as you go away from zero. If Outputs are extremes, then we aren't getting any training\n",
    "\n",
    "Dead neuron: Neurons which never learn.\n",
    "\n",
    "The tanh neuron will fire either -1 or 1. Similar issue for Sigmoid, Relu\n",
    "\n",
    "Can happen on Init by high numbers or high learning rate.\n",
    "\n",
    "Like a permanent brain damage \n",
    "\n",
    "LeakyRelu doesn't suffer from this\n",
    "\n",
    "###### Solution:\n",
    "\n",
    "We want hpreact to be closer to zero.\n",
    "\n",
    "``` python\n",
    "b1 = b1 * 0.01\n",
    "W1 = W1 * 0.1\n",
    "\n",
    "```\n",
    "\n",
    "Deeper networks aren't that forgiving for such errors\n"
   ]
  },
  {
   "cell_type": "markdown",
   "metadata": {
    "vscode": {
     "languageId": "ruby"
    }
   },
   "source": [
    "#### Kaiming init\n",
    "\n",
    "Preserve the gaussian init\n",
    "\n",
    "``` python\n",
    "x = randn 1000 x 10\n",
    "w = randn 10 x 200 \n",
    "w /= 5/3 * sqrt(fan_in)\n",
    "y = x @ w\n",
    "\n",
    "OR\n",
    "\n",
    "torch.nn.init.kaiming_normal(\n",
    "  tensor\n",
    "  fan_in / fan_out\n",
    "  nonlinearity: linear / relu / leakyRelu / tanh / etc\n",
    ")\n",
    "```\n",
    "\n",
    "To have `y`'s std dev of 1, use `w = w / sqrt(fan_in)`\n",
    "\n",
    "Modern innovations: \n",
    "\n",
    "- Residual corrections\n",
    "- Norm layers: batch / layer / group\n",
    "- Better Optimizers: not StochGradDescent, Armasprom, Adam\n",
    "\n",
    "Makes less important for initialization"
   ]
  },
  {
   "cell_type": "markdown",
   "metadata": {},
   "source": [
    "#### Batch Norm\n",
    "\n",
    "Possible to train deep neural nets quite reliably\n",
    "\n",
    "If you want `hpreact` (at init) to be roughly Gaussian, \n",
    "then, why not when you calc `hpreact` and turn that into Gaussian?\n",
    "\n",
    "``` python\n",
    "# BN gain and bias, at initialization\n",
    "bngain = torch.ones((1,n_hidden))     # 1x200\n",
    "bnbias = torch.zeros((1,n_hidden))    # 1x200\n",
    "\n",
    "# Forward pass\n",
    "hpreact = embcat @ W1 + b1            # 32x200\n",
    "# 1. mini batch Mean\n",
    "mean = hpreact.mean(0, keepdim=True)  # 1x200\n",
    "# 2. mini batch Varianc e\n",
    "std = hpreat.std(0, keepdim=True)     # 1x200\n",
    "# 3. Normalize\n",
    "hpreact = (hpreact - mean) / std\n",
    "# 4. Scale and Shift\n",
    "hpreact = bngain @ hpreact + bnbias\n",
    "\n",
    "```\n",
    "\n",
    "Batch Norm stabilizes the gain, but comes at a terrible cost.\n",
    "\n",
    "Introduces padding, Jittering, entropy, Stabilizes training\n",
    "2nd order effect that it behaves as a Regularizing layer\n",
    "Works quite well, at controlling\n",
    "\n",
    "bn gain & bias work on all the batch.\n",
    "\n",
    "Alternatives: Layer, Instance, Group\n",
    "\n",
    "Weird outcomes: \n",
    " \n",
    "Removed bias b1, useless as we have bnbias\n",
    "\n",
    "1 step after training which calculates the Mean and Std for the entire training set, fixed numbers\n",
    "\n",
    "If Norm, no bias needed\n",
    "\n",
    "Calculate a running mean & dev jankily for inference.\n"
   ]
  },
  {
   "cell_type": "markdown",
   "metadata": {},
   "source": [
    "#### ResNet 50\n",
    "\n",
    "Image Classification\n",
    "\n",
    "Image > ResNet\n",
    "\n",
    "Seq set up blocks, repeated sequentially in series\n",
    "\n",
    "Convolution: Linear layer on Patches. does it on overlapping patchies of input\n",
    "\n",
    "\n",
    "\n"
   ]
  },
  {
   "cell_type": "markdown",
   "metadata": {},
   "source": [
    "#### Pytorchify\n",
    "\n",
    "``` python\n",
    "\n",
    "# Add classes for different Layers, Linear, BatchNorm1d, Tanh\n",
    "# Defining layers\n",
    "layers = [\n",
    "  Layer(...)\n",
    "]\n",
    "\n",
    "```\n",
    "\n",
    "Analysis Parameters\n",
    "\n",
    "Distribution, Learning rate, Effects with Linear only, Linear + TanH, and L + Tan + BatchNorm\n"
   ]
  },
  {
   "cell_type": "code",
   "execution_count": 110,
   "metadata": {},
   "outputs": [],
   "source": [
    "import torch\n",
    "import torch.nn.functional as F\n",
    "import matplotlib.pyplot as plt\n"
   ]
  },
  {
   "cell_type": "markdown",
   "metadata": {},
   "source": [
    "Magic numbers"
   ]
  },
  {
   "cell_type": "code",
   "execution_count": 111,
   "metadata": {},
   "outputs": [],
   "source": [
    "from dataclasses import dataclass\n",
    "\n",
    "@dataclass\n",
    "class Config:\n",
    "  specialToken = '.'\n",
    "  blockSize = 3\n",
    "  inputEmbedding = 10\n",
    "  hiddenLayers = 200\n",
    "  totalWords = 1356048\n",
    "  seed = 2423425\n",
    "\n",
    "config = Config()"
   ]
  },
  {
   "cell_type": "code",
   "execution_count": 112,
   "metadata": {},
   "outputs": [
    {
     "data": {
      "text/plain": [
       "1356048"
      ]
     },
     "execution_count": 112,
     "metadata": {},
     "output_type": "execute_result"
    }
   ],
   "source": [
    "# Import names: read from file '../names.txt'\n",
    "words = open('../names.txt').read().splitlines()\n",
    "len(words)"
   ]
  },
  {
   "cell_type": "code",
   "execution_count": 113,
   "metadata": {},
   "outputs": [],
   "source": [
    "chars = [config.specialToken] + sorted(set(''.join(words)))\n",
    "stoi = { c:i for (i,c) in enumerate(chars)}\n",
    "itos = { i:c for (i,c) in enumerate(chars)}"
   ]
  },
  {
   "cell_type": "markdown",
   "metadata": {},
   "source": [
    "Select Backend: CPU, MPS, CUDA"
   ]
  },
  {
   "cell_type": "code",
   "execution_count": 114,
   "metadata": {},
   "outputs": [
    {
     "data": {
      "text/plain": [
       "device(type='mps')"
      ]
     },
     "execution_count": 114,
     "metadata": {},
     "output_type": "execute_result"
    }
   ],
   "source": [
    "# device = torch.device(\"cpu\")\n",
    "device = torch.device(\"mps\")\n",
    "# device = torch.device(\"cuda\")\n",
    "\n",
    "device"
   ]
  },
  {
   "cell_type": "markdown",
   "metadata": {},
   "source": [
    "Populate data into a Native matrix: X, Y"
   ]
  },
  {
   "cell_type": "code",
   "execution_count": 115,
   "metadata": {},
   "outputs": [
    {
     "data": {
      "text/plain": [
       "(torch.Size([7837977, 3]), torch.Size([980277, 3]), torch.Size([979965, 3]))"
      ]
     },
     "execution_count": 115,
     "metadata": {},
     "output_type": "execute_result"
    }
   ],
   "source": [
    "def build_dataset(words):\n",
    "  block_size = config.blockSize\n",
    "  specialToken = config.specialToken\n",
    "  X, Y = [], []\n",
    "  context = [stoi[config.specialToken]] * config.blockSize\n",
    "  for w in words:\n",
    "    for ch in w + specialToken:\n",
    "      X.append(context)\n",
    "      ix = stoi[ch]\n",
    "      Y.append(ix)\n",
    "      context = context[1:] + [ix] # Crop and append\n",
    "  X = torch.tensor(X, device=device)\n",
    "  Y = torch.tensor(Y, device=device)\n",
    "  return X, Y\n",
    "\n",
    "import random\n",
    "random.seed(42)\n",
    "random.shuffle(words)\n",
    "n1 = int(0.8 * len(words))\n",
    "n2 = int(0.9 * len(words))\n",
    "Xtr, Ytr = build_dataset(words=words[:n1])\n",
    "Xdev, Ydev = build_dataset(words=words[n1:n2])\n",
    "Xtest, Ytest = build_dataset(words=words[n2:])\n",
    "\n",
    "# randomize names and set the training, dev and test set\n",
    "    \n",
    "Xtr.shape, Xdev.shape, Xtest.shape"
   ]
  },
  {
   "cell_type": "code",
   "execution_count": 116,
   "metadata": {},
   "outputs": [
    {
     "data": {
      "text/plain": [
       "(torch.Size([7837977, 3]), torch.Size([980277, 3]), torch.Size([979965, 3]))"
      ]
     },
     "execution_count": 116,
     "metadata": {},
     "output_type": "execute_result"
    }
   ],
   "source": [
    "Xtr.shape, Xdev.shape, Xtest.shape"
   ]
  },
  {
   "cell_type": "code",
   "execution_count": 117,
   "metadata": {},
   "outputs": [],
   "source": [
    "lrs = 10**torch.linspace(-3,0,1000)"
   ]
  },
  {
   "cell_type": "code",
   "execution_count": 118,
   "metadata": {},
   "outputs": [],
   "source": [
    "inChars = len(stoi)\n",
    "intermediate = config.inputEmbedding * config.blockSize\n",
    "\n",
    "def getFreshInputs():\n",
    "  g = torch.Generator().manual_seed(config.seed)\n",
    "  # prob for any char = 1/inChars\n",
    "  uniform_prob = -torch.tensor(torch.tensor(1/inChars)).log() \n",
    "  # neg log prob: loss we expect\n",
    "  C = torch.randn(inChars, config.inputEmbedding,generator=g).to(device)\n",
    "  W1 = torch.randn(intermediate, config.hiddenLayers,generator=g).to(device)\n",
    "  b1 = torch.randn(config.hiddenLayers, generator=g).to(device)\n",
    "  W2 = torch.randn(config.hiddenLayers, len(stoi), generator=g).to(device)\n",
    "  b2 = torch.randn(len(stoi), generator=g).to(device)\n",
    "  parameters = [C, W1, b1, W2, b2]\n",
    "\n",
    "  for p in parameters:\n",
    "    p.requires_grad = True\n",
    "  return parameters + [g]\n",
    "\n",
    "C, W1, b1, W2, b2,  g = getFreshInputs()\n",
    "lossi = []"
   ]
  },
  {
   "cell_type": "code",
   "execution_count": 119,
   "metadata": {},
   "outputs": [],
   "source": [
    "def forward_and_backward(lr, parameters, batch_size=32) -> float:\n",
    "  \"\"\"Forward + Backward pass, return loss.\"\"\"\n",
    "  # unpack parameters\n",
    "  C, W1, b1, W2, b2 = parameters\n",
    "  ix = torch.randint(0, Xtr.shape[0], (batch_size,))\n",
    "  emb = C[Xtr[ix]]\n",
    "  hpreact = (emb.view(emb.shape[0], -1) @ W1 + b1)\n",
    "  h = hpreact.tanh()\n",
    "  logits = (h @ W2 + b2)\n",
    "  loss = F.cross_entropy(logits, Ytr[ix])\n",
    "  #def backward():\n",
    "  for p in parameters:\n",
    "    p.grad = None\n",
    "  loss.backward()\n",
    "  for p in parameters:\n",
    "    p.data += (-lr * p.grad)\n",
    "  return loss.item()"
   ]
  },
  {
   "cell_type": "code",
   "execution_count": 120,
   "metadata": {},
   "outputs": [],
   "source": [
    "@torch.no_grad\n",
    "def getLoss(split):\n",
    "  X,Y ={\n",
    "    'train': (Xtr, Ytr),\n",
    "    'dev': (Xdev, Ydev),\n",
    "    'test': (Xtest, Ytest)\n",
    "  }[split]\n",
    "  emb = C[X]\n",
    "  embcat = emb.view(emb.shape[0], -1)\n",
    "  h = (emb @ W1 + b1).tanh()\n",
    "  logits = (h @ W2 + b2)\n",
    "  loss = F.cross_entropy(logits, Y)\n",
    "  print(split, loss.item())\n",
    "  return loss.item()\n",
    "\n",
    "getLoss('dev')\n",
    "getLoss('test')"
   ]
  },
  {
   "cell_type": "code",
   "execution_count": null,
   "metadata": {},
   "outputs": [],
   "source": [
    "sp = stoi[config.specialToken]\n",
    "\n",
    "@torch.no_grad\n",
    "def sample(parameters):\n",
    "  C, W1, b1, W2, b2, g = parameters\n",
    "  context = [sp] * config.blockSize\n",
    "  out = []\n",
    "  while True:\n",
    "    emb = C[torch.tensor(context, device=device)]\n",
    "    h = (emb.view(1, -1) @ W1 + b1).tanh_()\n",
    "    logits = (h @ W2 + b2)\n",
    "    probs = F.softmax(logits, dim=1)\n",
    "    ix = torch.multinomial(probs, num_samples=1, generator=g).item()\n",
    "    out.append(ix)\n",
    "    if ix == sp:\n",
    "      break\n",
    "  return ''.join([itos[ix] for ix in out])"
   ]
  },
  {
   "cell_type": "code",
   "execution_count": 125,
   "metadata": {},
   "outputs": [
    {
     "data": {
      "image/png": "[encoded data removed]",
      "text/plain": [
       "<Figure size 640x480 with 1 Axes>"
      ]
     },
     "metadata": {},
     "output_type": "display_data"
    }
   ],
   "source": [
    "# Get optimal learning rate\n",
    "for lr in lrs:\n",
    "  l = forward_and_backward(lr, parameters=[C, W1, b1, W2, b2])\n",
    "  lossi.append(l)\n",
    "\n",
    "plt.plot(lrs, lossi)\n",
    "plt.xscale('log')\n",
    "\n",
    "min_lr = 0.1"
   ]
  },
  {
   "cell_type": "code",
   "execution_count": 126,
   "metadata": {},
   "outputs": [],
   "source": [
    "C, W1, b1, W2, b2, g = getFreshInputs()\n",
    "lossi = []"
   ]
  },
  {
   "cell_type": "code",
   "execution_count": 132,
   "metadata": {},
   "outputs": [
    {
     "data": {
      "text/plain": [
       "2.5506930351257324"
      ]
     },
     "execution_count": 132,
     "metadata": {},
     "output_type": "execute_result"
    },
    {
     "data": {
      "image/png": "[encoded data removed]",
      "text/plain": [
       "<Figure size 640x480 with 1 Axes>"
      ]
     },
     "metadata": {},
     "output_type": "display_data"
    }
   ],
   "source": [
    "for i in range(1000):\n",
    "  lossi.append(forward_and_backward(0.001, parameters=[C, W1, b1, W2, b2]))\n",
    "\n",
    "plt.plot(lossi)\n",
    "lossi[-1]"
   ]
  }
 ],
 "metadata": {
  "kernelspec": {
   "display_name": "mlenv",
   "language": "python",
   "name": "python3"
  },
  "language_info": {
   "codemirror_mode": {
    "name": "ipython",
    "version": 3
   },
   "file_extension": ".py",
   "mimetype": "text/x-python",
   "name": "python",
   "nbconvert_exporter": "python",
   "pygments_lexer": "ipython3",
   "version": "3.11.9"
  }
 },
 "nbformat": 4,
 "nbformat_minor": 2
}
